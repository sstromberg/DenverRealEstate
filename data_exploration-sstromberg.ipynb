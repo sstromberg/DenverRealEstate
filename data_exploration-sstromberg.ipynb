{
 "cells": [
  {
   "cell_type": "markdown",
   "metadata": {},
   "source": [
    "This project is going to, overall:\n",
    "1- read in a dataset of real estate transactions over a multi-year period and clean it\n",
    "\n",
    "2- use regression techniques to identify factors relevant to pricing -- including 'seasonality' effects (is there a seasonal penalty\n",
    "   in winter above and beyond the 'fundamentals' that approximate the 'quality' of the home)\n",
    "\n",
    "3- test the predictive power of a random forest model (as compared to the regression) -- should capture complex interrelationships\n",
    "   between variables, will yield relative-importance estimates\n",
    "\n",
    "4- use unsupervised learning algorithms to construct Neighborhoods, compare them to the city's 'official' categorization\n",
    "   this may require subsetting the data geographically, so that we're in a smaller category space"
   ]
  },
  {
   "cell_type": "markdown",
   "metadata": {},
   "source": [
    "Goals for this file:\n",
    "- read data files (they're both csvs -- one is sales, the other is characteristics of every lot)\n",
    "\n",
    "- merge and filter for the desired subset of observations: single-family residential lots in the sales set\n",
    "\n",
    "- drop some of the non-applicable/empty columns (i.e. for commercial zoning) -- probably using documentation\n",
    "\n",
    "- split out some rows for 'final scoring'"
   ]
  },
  {
   "cell_type": "code",
   "execution_count": 1,
   "metadata": {
    "collapsed": false
   },
   "outputs": [],
   "source": [
    "# Standard imports for data analysis packages in Python\n",
    "import pandas as pd\n",
    "import numpy as np\n",
    "import matplotlib.pyplot as plt\n",
    "\n",
    "# This enables inline Plots\n",
    "%matplotlib inline\n",
    "\n",
    "# Limit rows displayed in notebook\n",
    "pd.set_option('display.max_rows', 10)\n",
    "pd.set_option('display.precision', 2)"
   ]
  },
  {
   "cell_type": "code",
   "execution_count": 2,
   "metadata": {
    "collapsed": false
   },
   "outputs": [
    {
     "data": {
      "text/plain": [
       "u'0.17.1'"
      ]
     },
     "execution_count": 2,
     "metadata": {},
     "output_type": "execute_result"
    }
   ],
   "source": [
    "pd.__version__"
   ]
  },
  {
   "cell_type": "code",
   "execution_count": 3,
   "metadata": {
    "collapsed": false
   },
   "outputs": [
    {
     "name": "stderr",
     "output_type": "stream",
     "text": [
      "Skipping line 41748: expected 16 fields, saw 17\n",
      "\n",
      "Skipping line 62074: expected 46 fields, saw 47\n",
      "Skipping line 62077: expected 46 fields, saw 47\n",
      "Skipping line 62080: expected 46 fields, saw 47\n",
      "Skipping line 66636: expected 46 fields, saw 48\n",
      "\n"
     ]
    }
   ],
   "source": [
    "df1 = pd.read_csv('property_sales.csv', low_memory=False, error_bad_lines=False)\n",
    "df2 = pd.read_csv('residential_chars.csv', low_memory=False, error_bad_lines=False)"
   ]
  },
  {
   "cell_type": "code",
   "execution_count": 4,
   "metadata": {
    "collapsed": false
   },
   "outputs": [
    {
     "name": "stdout",
     "output_type": "stream",
     "text": [
      "<class 'pandas.core.frame.DataFrame'>\n",
      "Int64Index: 186316 entries, 0 to 186315\n",
      "Data columns (total 16 columns):\n",
      "SCHEDNUM          186316 non-null int64\n",
      "RECEPTION_NUM     186316 non-null object\n",
      "INSTRUMENT        186316 non-null object\n",
      "SALE_YEAR         186316 non-null int64\n",
      "SALE_MONTHDAY     186316 non-null int64\n",
      "RECEPTION_DATE    186316 non-null int64\n",
      "SALE_PRICE        125045 non-null float64\n",
      "GRANTOR           186316 non-null object\n",
      "GRANTEE           186316 non-null object\n",
      "CLASS             186316 non-null object\n",
      "MKT_CLUS          177329 non-null float64\n",
      "D_CLASS           186316 non-null object\n",
      "D_CLASS_CN        186294 non-null object\n",
      "NBHD_1            186316 non-null int64\n",
      "NBHD_1_CN         186314 non-null object\n",
      "PIN               186316 non-null int64\n",
      "dtypes: float64(2), int64(6), object(8)\n",
      "memory usage: 24.2+ MB\n"
     ]
    }
   ],
   "source": [
    "df1.info()"
   ]
  },
  {
   "cell_type": "code",
   "execution_count": 5,
   "metadata": {
    "collapsed": false
   },
   "outputs": [
    {
     "name": "stdout",
     "output_type": "stream",
     "text": [
      "<class 'pandas.core.frame.DataFrame'>\n",
      "Int64Index: 197687 entries, 0 to 197686\n",
      "Data columns (total 46 columns):\n",
      "PIN                 197687 non-null int64\n",
      "SCHEDNUM            197687 non-null int64\n",
      "CD                  197687 non-null int64\n",
      "OFCARD              197687 non-null int64\n",
      "OWNER               197687 non-null object\n",
      "CO_OWNER            6013 non-null object\n",
      "OWNER_NUM           197687 non-null object\n",
      "OWNER_DIR           103696 non-null object\n",
      "OWNER_ST            197684 non-null object\n",
      "OWNER_TYPE          191155 non-null object\n",
      "OWNER_APT           38891 non-null object\n",
      "OWNER_CITY          197687 non-null object\n",
      "OWNER_STATE         197686 non-null object\n",
      "OWNER_ZIP           197664 non-null object\n",
      "SITE_NBR            197687 non-null int64\n",
      "SITE_DIR            110645 non-null object\n",
      "SITE_NAME           197687 non-null object\n",
      "SITE_MODE           197543 non-null object\n",
      "SITE_MORE           48773 non-null object\n",
      "TAX_DIST            197687 non-null object\n",
      "PROP_CLASS          197666 non-null float64\n",
      "PROPERTY_CLASS      197666 non-null object\n",
      "ZONE10              197687 non-null object\n",
      "D_CLASS_CN          197686 non-null object\n",
      "LAND_SQFT           197004 non-null float64\n",
      "AREA_ABG            197687 non-null int64\n",
      "BSMT_AREA           197687 non-null int64\n",
      "FBSMT_SQFT          197687 non-null int64\n",
      "GRD_AREA            197687 non-null int64\n",
      "STORY               197687 non-null float64\n",
      "STYLE_CN            186870 non-null object\n",
      "BED_RMS             197687 non-null int64\n",
      "FULL_B              186870 non-null float64\n",
      "HLF_B               186870 non-null float64\n",
      "CCYRBLT             186870 non-null float64\n",
      "CCAGE_RM            186870 non-null float64\n",
      "UNITS               197687 non-null int64\n",
      "ASMT_APPR_LAND      197666 non-null float64\n",
      "TOTAL_VALUE         197666 non-null float64\n",
      "ASDLAND             197666 non-null float64\n",
      "ASSESS_VALUE        197666 non-null float64\n",
      "ASMT_TAXABLE        197666 non-null float64\n",
      "ASMT_EXEMPT_AMT     197666 non-null float64\n",
      "NBHD_1              197687 non-null int64\n",
      "NBHD_1_CN           197686 non-null object\n",
      "LEGL_DESCRIPTION    197687 non-null object\n",
      "dtypes: float64(13), int64(12), object(21)\n",
      "memory usage: 70.9+ MB\n"
     ]
    }
   ],
   "source": [
    "df2.info()"
   ]
  },
  {
   "cell_type": "code",
   "execution_count": 7,
   "metadata": {
    "collapsed": false
   },
   "outputs": [],
   "source": [
    "# merge on PIN (in pandas)... want to drop commercial from df1, unsold from df2\n",
    "# need to see if dups cause a problem -- we want them in the final file"
   ]
  },
  {
   "cell_type": "code",
   "execution_count": 6,
   "metadata": {
    "collapsed": false
   },
   "outputs": [
    {
     "data": {
      "text/plain": [
       "166"
      ]
     },
     "execution_count": 6,
     "metadata": {},
     "output_type": "execute_result"
    }
   ],
   "source": [
    "df1['D_CLASS_CN'].nunique()\n",
    "# we know a priori that this file contains a lot of non-residential property types"
   ]
  },
  {
   "cell_type": "code",
   "execution_count": 7,
   "metadata": {
    "collapsed": false
   },
   "outputs": [
    {
     "name": "stdout",
     "output_type": "stream",
     "text": [
      "64\n",
      "['SINGLE FAMILY' 'ROWHOUSE' 'CONDOMINIUM' 'MISC ROWHOUSE IMPS'\n",
      " 'VCNT LAND B-3 BA3 CCN' 'VCNT LAND R-2, RS-2 ZONE' 'OTHER REC FACILITIES'\n",
      " 'PAVED LOT' 'VCNT LAND BA-2 ZONE' 'VCNT LAND 0-1 ZONE'\n",
      " 'AGR VCNT LAND IN GWD' 'PUD VCNT LAND' 'VCNT LAND R-0 & R-1 ZONE'\n",
      " 'DENVER HOUSING AUTHORITY' 'GENERAL COMMON ELEMENTS'\n",
      " 'VCNT LAND - RES RATIO' 'VCNT LAND B4 BA4 ZONE'\n",
      " 'PAVED LOT W/ LIGHT OR FENCING' 'CITY LEASED BUILDING' 'DIA'\n",
      " 'VCNT LAND B-7 ZONE' 'SENIOR CITIZEN HOMES' 'VCNT LAND RS-4 ZONE'\n",
      " 'SURFACING' 'DCL MISC RES IMPS' 'MISC IMPS-TIE BACK' 'ALL OTHERS'\n",
      " 'VCNT LAND R-X ZONE' 'PARSONAGE' 'CITY & COUNTY OF DENVER'\n",
      " 'VCNT LAND W/MINOR STR' 'VCNT LAND I-1 ZONE' 'MOBILE HOME - IMP ONLY'\n",
      " 'VCNT LAND I-2 ZONE' 'VCNT LAND I-0 ZONE' 'VCNT LAND R-3, R-3X ZONE'\n",
      " 'VCNT LAND R-5 ZONE' 'SCHOOL DISTRICT NO. 1' 'CHURCH OWNED SFR'\n",
      " 'DENVER PARK' 'STATE ASSESSED PROPERTIES' 'RR OWNED VCT LAND/MISCIMP'\n",
      " '101 CONDO PKG' '10S CONDO STORAGE' 'VCNT LAND B-8 ZONE'\n",
      " 'VCNT LAND PRV ZONE' '100 MISC CONDO' 'MISC CONDO IMPS'\n",
      " 'APT MISC, PKG, CLUBHOUSES' 'PARKING GARAGE 8 STORY'\n",
      " 'PARING GARAGE>10 STORIES' 'APT W/3 UNITS' 'VCNT LAND BA-1 ZONE'\n",
      " 'EXEMPT VACANT LAND' 'PE CONDOMINIUMS' 'VCNT LAND P-1 ZONE'\n",
      " 'PBG ON MORE THAN 1 PARCEL' 'SINGLE FAMILY MISC/LIV'\n",
      " 'APT MISC BLDGS, SITE IMPS' nan 'PE RESIDENTIAL'\n",
      " 'CHURCHES & OTHER WORSHIP' 'PRESCHOOLER NURSERY' 'LOWRY RES EXEMPT'\n",
      " 'STATE OF COLORADO']\n"
     ]
    }
   ],
   "source": [
    "print df2['D_CLASS_CN'].nunique()\n",
    "# this file is listed as \"residential\", but it actually contains a couple dozen different zoning categories\n",
    "print df2['D_CLASS_CN'].unique()"
   ]
  },
  {
   "cell_type": "code",
   "execution_count": 8,
   "metadata": {
    "collapsed": false
   },
   "outputs": [],
   "source": [
    "# So before we merge the files together, let's filter for the types that seem clearly useful for our study\n",
    "res_types = ['SINGLE FAMILY', 'ROWHOUSE', 'APT W/3 UNITS']\n",
    "\n",
    "# let's test the merge code etc on one class first\n",
    "df1a = df1[df1['D_CLASS_CN'] == 'SINGLE FAMILY']\n",
    "df2a = df2[df2['D_CLASS_CN'] == 'SINGLE FAMILY']"
   ]
  },
  {
   "cell_type": "code",
   "execution_count": 9,
   "metadata": {
    "collapsed": false
   },
   "outputs": [],
   "source": [
    "df_full = pd.merge(df1a, df2a, how='left', on='SCHEDNUM')"
   ]
  },
  {
   "cell_type": "code",
   "execution_count": 10,
   "metadata": {
    "collapsed": false
   },
   "outputs": [
    {
     "name": "stdout",
     "output_type": "stream",
     "text": [
      "<class 'pandas.core.frame.DataFrame'>\n",
      "Int64Index: 111892 entries, 0 to 111891\n",
      "Data columns (total 61 columns):\n",
      "SCHEDNUM            111892 non-null int64\n",
      "RECEPTION_NUM       111892 non-null object\n",
      "INSTRUMENT          111892 non-null object\n",
      "SALE_YEAR           111892 non-null int64\n",
      "SALE_MONTHDAY       111892 non-null int64\n",
      "RECEPTION_DATE      111892 non-null int64\n",
      "SALE_PRICE          74415 non-null float64\n",
      "GRANTOR             111892 non-null object\n",
      "GRANTEE             111892 non-null object\n",
      "CLASS               111892 non-null object\n",
      "MKT_CLUS            111868 non-null float64\n",
      "D_CLASS             111892 non-null object\n",
      "D_CLASS_CN_x        111892 non-null object\n",
      "NBHD_1_x            111892 non-null int64\n",
      "NBHD_1_CN_x         111892 non-null object\n",
      "PIN_x               111892 non-null int64\n",
      "PIN_y               111861 non-null float64\n",
      "CD                  111861 non-null float64\n",
      "OFCARD              111861 non-null float64\n",
      "OWNER               111861 non-null object\n",
      "CO_OWNER            2785 non-null object\n",
      "OWNER_NUM           111861 non-null object\n",
      "OWNER_DIR           55807 non-null object\n",
      "OWNER_ST            111861 non-null object\n",
      "OWNER_TYPE          108646 non-null object\n",
      "OWNER_APT           5359 non-null object\n",
      "OWNER_CITY          111861 non-null object\n",
      "OWNER_STATE         111860 non-null object\n",
      "OWNER_ZIP           111842 non-null object\n",
      "SITE_NBR            111861 non-null float64\n",
      "SITE_DIR            60037 non-null object\n",
      "SITE_NAME           111861 non-null object\n",
      "SITE_MODE           111822 non-null object\n",
      "SITE_MORE           1196 non-null object\n",
      "TAX_DIST            111861 non-null object\n",
      "PROP_CLASS          111861 non-null float64\n",
      "PROPERTY_CLASS      111861 non-null object\n",
      "ZONE10              111861 non-null object\n",
      "D_CLASS_CN_y        111861 non-null object\n",
      "LAND_SQFT           111821 non-null float64\n",
      "AREA_ABG            111861 non-null float64\n",
      "BSMT_AREA           111861 non-null float64\n",
      "FBSMT_SQFT          111861 non-null float64\n",
      "GRD_AREA            111861 non-null float64\n",
      "STORY               111861 non-null float64\n",
      "STYLE_CN            111810 non-null object\n",
      "BED_RMS             111861 non-null float64\n",
      "FULL_B              111810 non-null float64\n",
      "HLF_B               111810 non-null float64\n",
      "CCYRBLT             111810 non-null float64\n",
      "CCAGE_RM            111810 non-null float64\n",
      "UNITS               111861 non-null float64\n",
      "ASMT_APPR_LAND      111861 non-null float64\n",
      "TOTAL_VALUE         111861 non-null float64\n",
      "ASDLAND             111861 non-null float64\n",
      "ASSESS_VALUE        111861 non-null float64\n",
      "ASMT_TAXABLE        111861 non-null float64\n",
      "ASMT_EXEMPT_AMT     111861 non-null float64\n",
      "NBHD_1_y            111861 non-null float64\n",
      "NBHD_1_CN_y         111861 non-null object\n",
      "LEGL_DESCRIPTION    111861 non-null object\n",
      "dtypes: float64(26), int64(6), object(29)\n",
      "memory usage: 52.9+ MB\n",
      "None\n"
     ]
    },
    {
     "data": {
      "text/html": [
       "<div>\n",
       "<table border=\"1\" class=\"dataframe\">\n",
       "  <thead>\n",
       "    <tr style=\"text-align: right;\">\n",
       "      <th></th>\n",
       "      <th>SCHEDNUM</th>\n",
       "      <th>RECEPTION_NUM</th>\n",
       "      <th>INSTRUMENT</th>\n",
       "      <th>SALE_YEAR</th>\n",
       "      <th>SALE_MONTHDAY</th>\n",
       "      <th>RECEPTION_DATE</th>\n",
       "      <th>SALE_PRICE</th>\n",
       "      <th>GRANTOR</th>\n",
       "      <th>GRANTEE</th>\n",
       "      <th>CLASS</th>\n",
       "      <th>...</th>\n",
       "      <th>UNITS</th>\n",
       "      <th>ASMT_APPR_LAND</th>\n",
       "      <th>TOTAL_VALUE</th>\n",
       "      <th>ASDLAND</th>\n",
       "      <th>ASSESS_VALUE</th>\n",
       "      <th>ASMT_TAXABLE</th>\n",
       "      <th>ASMT_EXEMPT_AMT</th>\n",
       "      <th>NBHD_1_y</th>\n",
       "      <th>NBHD_1_CN_y</th>\n",
       "      <th>LEGL_DESCRIPTION</th>\n",
       "    </tr>\n",
       "  </thead>\n",
       "  <tbody>\n",
       "    <tr>\n",
       "      <th>0</th>\n",
       "      <td>4100122000</td>\n",
       "      <td>2008170400</td>\n",
       "      <td>PR</td>\n",
       "      <td>2008</td>\n",
       "      <td>1212</td>\n",
       "      <td>20081222</td>\n",
       "      <td>NaN</td>\n",
       "      <td>REITHER,JOHN G &amp; CLARA</td>\n",
       "      <td>REITHER,JOHN FAMILY TRUST &amp;</td>\n",
       "      <td>R</td>\n",
       "      <td>...</td>\n",
       "      <td>1</td>\n",
       "      <td>0</td>\n",
       "      <td>136200</td>\n",
       "      <td>0</td>\n",
       "      <td>10842</td>\n",
       "      <td>10840</td>\n",
       "      <td>0</td>\n",
       "      <td>4</td>\n",
       "      <td>GATEWAY N</td>\n",
       "      <td>T3 R66 S4 SW/4 E 660FT EXC S   30FT OF SD SEC ...</td>\n",
       "    </tr>\n",
       "    <tr>\n",
       "      <th>1</th>\n",
       "      <td>14101001000</td>\n",
       "      <td>2009074518</td>\n",
       "      <td>WD</td>\n",
       "      <td>2009</td>\n",
       "      <td>605</td>\n",
       "      <td>20090615</td>\n",
       "      <td>299000</td>\n",
       "      <td>ATKINSON,RUSSELL</td>\n",
       "      <td>PADBURY,CHRISTOPHER R</td>\n",
       "      <td>R</td>\n",
       "      <td>...</td>\n",
       "      <td>1</td>\n",
       "      <td>30000</td>\n",
       "      <td>300800</td>\n",
       "      <td>2388</td>\n",
       "      <td>23944</td>\n",
       "      <td>23950</td>\n",
       "      <td>0</td>\n",
       "      <td>5</td>\n",
       "      <td>N GREEN VALLEY</td>\n",
       "      <td>GREEN VALLEY RANCH FLG #36 B1  L1</td>\n",
       "    </tr>\n",
       "    <tr>\n",
       "      <th>2</th>\n",
       "      <td>14101001000</td>\n",
       "      <td>2009002129</td>\n",
       "      <td>WD</td>\n",
       "      <td>2008</td>\n",
       "      <td>1024</td>\n",
       "      <td>20090108</td>\n",
       "      <td>10</td>\n",
       "      <td>DREAM BUILDERS LLC</td>\n",
       "      <td>ATKINSON,RUSSELL</td>\n",
       "      <td>R</td>\n",
       "      <td>...</td>\n",
       "      <td>1</td>\n",
       "      <td>30000</td>\n",
       "      <td>300800</td>\n",
       "      <td>2388</td>\n",
       "      <td>23944</td>\n",
       "      <td>23950</td>\n",
       "      <td>0</td>\n",
       "      <td>5</td>\n",
       "      <td>N GREEN VALLEY</td>\n",
       "      <td>GREEN VALLEY RANCH FLG #36 B1  L1</td>\n",
       "    </tr>\n",
       "    <tr>\n",
       "      <th>3</th>\n",
       "      <td>14101001000</td>\n",
       "      <td>2008138043</td>\n",
       "      <td>WD</td>\n",
       "      <td>2008</td>\n",
       "      <td>703</td>\n",
       "      <td>20081008</td>\n",
       "      <td>10</td>\n",
       "      <td>ATKINSON,RUSSELL</td>\n",
       "      <td>DREAM BUILDERS LLC</td>\n",
       "      <td>R</td>\n",
       "      <td>...</td>\n",
       "      <td>1</td>\n",
       "      <td>30000</td>\n",
       "      <td>300800</td>\n",
       "      <td>2388</td>\n",
       "      <td>23944</td>\n",
       "      <td>23950</td>\n",
       "      <td>0</td>\n",
       "      <td>5</td>\n",
       "      <td>N GREEN VALLEY</td>\n",
       "      <td>GREEN VALLEY RANCH FLG #36 B1  L1</td>\n",
       "    </tr>\n",
       "    <tr>\n",
       "      <th>4</th>\n",
       "      <td>14101002000</td>\n",
       "      <td>2010094573</td>\n",
       "      <td>WD</td>\n",
       "      <td>2010</td>\n",
       "      <td>823</td>\n",
       "      <td>20100824</td>\n",
       "      <td>350000</td>\n",
       "      <td>SHEARON,MARK H &amp;</td>\n",
       "      <td>EFREM,TEWEDROS</td>\n",
       "      <td>R</td>\n",
       "      <td>...</td>\n",
       "      <td>1</td>\n",
       "      <td>30000</td>\n",
       "      <td>414700</td>\n",
       "      <td>2388</td>\n",
       "      <td>33010</td>\n",
       "      <td>33010</td>\n",
       "      <td>0</td>\n",
       "      <td>5</td>\n",
       "      <td>N GREEN VALLEY</td>\n",
       "      <td>GREEN VALLEY RANCH FLG #36 B1  L2</td>\n",
       "    </tr>\n",
       "  </tbody>\n",
       "</table>\n",
       "<p>5 rows × 61 columns</p>\n",
       "</div>"
      ],
      "text/plain": [
       "      SCHEDNUM RECEPTION_NUM INSTRUMENT  SALE_YEAR  SALE_MONTHDAY  \\\n",
       "0   4100122000    2008170400         PR       2008           1212   \n",
       "1  14101001000    2009074518         WD       2009            605   \n",
       "2  14101001000    2009002129         WD       2008           1024   \n",
       "3  14101001000    2008138043         WD       2008            703   \n",
       "4  14101002000    2010094573         WD       2010            823   \n",
       "\n",
       "   RECEPTION_DATE  SALE_PRICE                 GRANTOR  \\\n",
       "0        20081222         NaN  REITHER,JOHN G & CLARA   \n",
       "1        20090615      299000        ATKINSON,RUSSELL   \n",
       "2        20090108          10      DREAM BUILDERS LLC   \n",
       "3        20081008          10        ATKINSON,RUSSELL   \n",
       "4        20100824      350000        SHEARON,MARK H &   \n",
       "\n",
       "                       GRANTEE CLASS  \\\n",
       "0  REITHER,JOHN FAMILY TRUST &     R   \n",
       "1        PADBURY,CHRISTOPHER R     R   \n",
       "2             ATKINSON,RUSSELL     R   \n",
       "3           DREAM BUILDERS LLC     R   \n",
       "4               EFREM,TEWEDROS     R   \n",
       "\n",
       "                         ...                          UNITS ASMT_APPR_LAND  \\\n",
       "0                        ...                              1              0   \n",
       "1                        ...                              1          30000   \n",
       "2                        ...                              1          30000   \n",
       "3                        ...                              1          30000   \n",
       "4                        ...                              1          30000   \n",
       "\n",
       "  TOTAL_VALUE  ASDLAND ASSESS_VALUE  ASMT_TAXABLE  ASMT_EXEMPT_AMT  NBHD_1_y  \\\n",
       "0      136200        0        10842         10840                0         4   \n",
       "1      300800     2388        23944         23950                0         5   \n",
       "2      300800     2388        23944         23950                0         5   \n",
       "3      300800     2388        23944         23950                0         5   \n",
       "4      414700     2388        33010         33010                0         5   \n",
       "\n",
       "      NBHD_1_CN_y                                   LEGL_DESCRIPTION  \n",
       "0       GATEWAY N  T3 R66 S4 SW/4 E 660FT EXC S   30FT OF SD SEC ...  \n",
       "1  N GREEN VALLEY                  GREEN VALLEY RANCH FLG #36 B1  L1  \n",
       "2  N GREEN VALLEY                  GREEN VALLEY RANCH FLG #36 B1  L1  \n",
       "3  N GREEN VALLEY                  GREEN VALLEY RANCH FLG #36 B1  L1  \n",
       "4  N GREEN VALLEY                  GREEN VALLEY RANCH FLG #36 B1  L2  \n",
       "\n",
       "[5 rows x 61 columns]"
      ]
     },
     "execution_count": 10,
     "metadata": {},
     "output_type": "execute_result"
    }
   ],
   "source": [
    "print df_full.info()\n",
    "df_full.head()\n"
   ]
  },
  {
   "cell_type": "code",
   "execution_count": null,
   "metadata": {
    "collapsed": false
   },
   "outputs": [],
   "source": [
    "# now, we drop properties where SALE_PRICE is below some arbitrary threshold, since we don't expect\n",
    "# foreclosure auctions, nominal 'sales' between family members, etc to be very predictable"
   ]
  },
  {
   "cell_type": "code",
   "execution_count": 11,
   "metadata": {
    "collapsed": false
   },
   "outputs": [
    {
     "data": {
      "text/html": [
       "<div>\n",
       "<table border=\"1\" class=\"dataframe\">\n",
       "  <thead>\n",
       "    <tr style=\"text-align: right;\">\n",
       "      <th></th>\n",
       "      <th>sum</th>\n",
       "      <th>count</th>\n",
       "      <th>avg</th>\n",
       "    </tr>\n",
       "    <tr>\n",
       "      <th>INSTRUMENT</th>\n",
       "      <th></th>\n",
       "      <th></th>\n",
       "      <th></th>\n",
       "    </tr>\n",
       "  </thead>\n",
       "  <tbody>\n",
       "    <tr>\n",
       "      <th>AD</th>\n",
       "      <td>2.16e+06</td>\n",
       "      <td>13</td>\n",
       "      <td>166361.54</td>\n",
       "    </tr>\n",
       "    <tr>\n",
       "      <th>AF</th>\n",
       "      <td>5.24e+05</td>\n",
       "      <td>4</td>\n",
       "      <td>130942.50</td>\n",
       "    </tr>\n",
       "    <tr>\n",
       "      <th>BF</th>\n",
       "      <td>1.00e+01</td>\n",
       "      <td>1</td>\n",
       "      <td>10.00</td>\n",
       "    </tr>\n",
       "    <tr>\n",
       "      <th>BG</th>\n",
       "      <td>2.02e+07</td>\n",
       "      <td>80</td>\n",
       "      <td>252799.65</td>\n",
       "    </tr>\n",
       "    <tr>\n",
       "      <th>BS</th>\n",
       "      <td>4.74e+07</td>\n",
       "      <td>144</td>\n",
       "      <td>329065.41</td>\n",
       "    </tr>\n",
       "    <tr>\n",
       "      <th>...</th>\n",
       "      <td>...</td>\n",
       "      <td>...</td>\n",
       "      <td>...</td>\n",
       "    </tr>\n",
       "    <tr>\n",
       "      <th>SW</th>\n",
       "      <td>7.69e+09</td>\n",
       "      <td>10949</td>\n",
       "      <td>702244.87</td>\n",
       "    </tr>\n",
       "    <tr>\n",
       "      <th>TR</th>\n",
       "      <td>2.34e+07</td>\n",
       "      <td>130</td>\n",
       "      <td>179728.22</td>\n",
       "    </tr>\n",
       "    <tr>\n",
       "      <th>TS</th>\n",
       "      <td>3.32e+03</td>\n",
       "      <td>4</td>\n",
       "      <td>829.25</td>\n",
       "    </tr>\n",
       "    <tr>\n",
       "      <th>TT</th>\n",
       "      <td>NaN</td>\n",
       "      <td>0</td>\n",
       "      <td>NaN</td>\n",
       "    </tr>\n",
       "    <tr>\n",
       "      <th>WD</th>\n",
       "      <td>1.81e+10</td>\n",
       "      <td>51692</td>\n",
       "      <td>349848.85</td>\n",
       "    </tr>\n",
       "  </tbody>\n",
       "</table>\n",
       "<p>32 rows × 3 columns</p>\n",
       "</div>"
      ],
      "text/plain": [
       "                 sum  count        avg\n",
       "INSTRUMENT                            \n",
       "AD          2.16e+06     13  166361.54\n",
       "AF          5.24e+05      4  130942.50\n",
       "BF          1.00e+01      1      10.00\n",
       "BG          2.02e+07     80  252799.65\n",
       "BS          4.74e+07    144  329065.41\n",
       "...              ...    ...        ...\n",
       "SW          7.69e+09  10949  702244.87\n",
       "TR          2.34e+07    130  179728.22\n",
       "TS          3.32e+03      4     829.25\n",
       "TT               NaN      0        NaN\n",
       "WD          1.81e+10  51692  349848.85\n",
       "\n",
       "[32 rows x 3 columns]"
      ]
     },
     "execution_count": 11,
     "metadata": {},
     "output_type": "execute_result"
    }
   ],
   "source": [
    "# does INSTRUMENT help us determine which sales are 'not useful' (e.g. non-predictive)?\n",
    "df_inst = df_full.groupby('INSTRUMENT').SALE_PRICE.agg(['sum', 'count'])\n",
    "df_inst['avg'] = df_inst['sum'] / df_inst['count']\n",
    "df_inst"
   ]
  },
  {
   "cell_type": "code",
   "execution_count": 12,
   "metadata": {
    "collapsed": false
   },
   "outputs": [
    {
     "data": {
      "text/html": [
       "<div>\n",
       "<table border=\"1\" class=\"dataframe\">\n",
       "  <thead>\n",
       "    <tr style=\"text-align: right;\">\n",
       "      <th></th>\n",
       "      <th>sum</th>\n",
       "      <th>count</th>\n",
       "      <th>avg</th>\n",
       "    </tr>\n",
       "    <tr>\n",
       "      <th>INSTRUMENT</th>\n",
       "      <th></th>\n",
       "      <th></th>\n",
       "      <th></th>\n",
       "    </tr>\n",
       "  </thead>\n",
       "  <tbody>\n",
       "    <tr>\n",
       "      <th>AF</th>\n",
       "      <td>523770</td>\n",
       "      <td>4</td>\n",
       "      <td>130942.50</td>\n",
       "    </tr>\n",
       "    <tr>\n",
       "      <th>BF</th>\n",
       "      <td>10</td>\n",
       "      <td>1</td>\n",
       "      <td>10.00</td>\n",
       "    </tr>\n",
       "    <tr>\n",
       "      <th>CD</th>\n",
       "      <td>1467760</td>\n",
       "      <td>11</td>\n",
       "      <td>133432.73</td>\n",
       "    </tr>\n",
       "    <tr>\n",
       "      <th>DC</th>\n",
       "      <td>133</td>\n",
       "      <td>15</td>\n",
       "      <td>8.87</td>\n",
       "    </tr>\n",
       "    <tr>\n",
       "      <th>DD</th>\n",
       "      <td>11591812</td>\n",
       "      <td>126</td>\n",
       "      <td>91998.51</td>\n",
       "    </tr>\n",
       "    <tr>\n",
       "      <th>DS</th>\n",
       "      <td>11</td>\n",
       "      <td>2</td>\n",
       "      <td>5.50</td>\n",
       "    </tr>\n",
       "    <tr>\n",
       "      <th>PS</th>\n",
       "      <td>79000</td>\n",
       "      <td>1</td>\n",
       "      <td>79000.00</td>\n",
       "    </tr>\n",
       "    <tr>\n",
       "      <th>QC</th>\n",
       "      <td>56223597</td>\n",
       "      <td>8692</td>\n",
       "      <td>6468.43</td>\n",
       "    </tr>\n",
       "    <tr>\n",
       "      <th>ST</th>\n",
       "      <td>10</td>\n",
       "      <td>1</td>\n",
       "      <td>10.00</td>\n",
       "    </tr>\n",
       "    <tr>\n",
       "      <th>TS</th>\n",
       "      <td>3317</td>\n",
       "      <td>4</td>\n",
       "      <td>829.25</td>\n",
       "    </tr>\n",
       "  </tbody>\n",
       "</table>\n",
       "</div>"
      ],
      "text/plain": [
       "                 sum  count        avg\n",
       "INSTRUMENT                            \n",
       "AF            523770      4  130942.50\n",
       "BF                10      1      10.00\n",
       "CD           1467760     11  133432.73\n",
       "DC               133     15       8.87\n",
       "DD          11591812    126   91998.51\n",
       "DS                11      2       5.50\n",
       "PS             79000      1   79000.00\n",
       "QC          56223597   8692    6468.43\n",
       "ST                10      1      10.00\n",
       "TS              3317      4     829.25"
      ]
     },
     "execution_count": 12,
     "metadata": {},
     "output_type": "execute_result"
    }
   ],
   "source": [
    "# looks promising...\n",
    "a = df_inst.avg < 150000\n",
    "df_inst[a==True]"
   ]
  },
  {
   "cell_type": "code",
   "execution_count": 13,
   "metadata": {
    "collapsed": false
   },
   "outputs": [
    {
     "data": {
      "text/plain": [
       "9200000.0"
      ]
     },
     "execution_count": 13,
     "metadata": {},
     "output_type": "execute_result"
    }
   ],
   "source": [
    "# INSTRUMENT == QC is likely \"quit claims\", which are used when the sale carries no guarantee of clear title...\n",
    "# wiki notes that the two main use cases are 1) transfers btwn family members 2) tax auction sales by govt\n",
    "# this doesn't seem germane to the project\n",
    "\n",
    "# others of these sale types with low average prices are likely other types of 'distressed' sale, as well, and we should consider\n",
    "# whether we want to throw out all low-priced sales, all sales of certain types, or some combination of both\n",
    "df_full[df_full.INSTRUMENT == 'QC'].SALE_PRICE.max()"
   ]
  },
  {
   "cell_type": "code",
   "execution_count": 13,
   "metadata": {
    "collapsed": false
   },
   "outputs": [],
   "source": [
    "df3 = df_full[df_full.SALE_PRICE > 100000]"
   ]
  },
  {
   "cell_type": "code",
   "execution_count": 14,
   "metadata": {
    "collapsed": false
   },
   "outputs": [
    {
     "name": "stdout",
     "output_type": "stream",
     "text": [
      "<class 'pandas.core.frame.DataFrame'>\n",
      "Int64Index: 56330 entries, 1 to 111891\n",
      "Data columns (total 61 columns):\n",
      "SCHEDNUM            56330 non-null int64\n",
      "RECEPTION_NUM       56330 non-null object\n",
      "INSTRUMENT          56330 non-null object\n",
      "SALE_YEAR           56330 non-null int64\n",
      "SALE_MONTHDAY       56330 non-null int64\n",
      "RECEPTION_DATE      56330 non-null int64\n",
      "SALE_PRICE          56330 non-null float64\n",
      "GRANTOR             56330 non-null object\n",
      "GRANTEE             56330 non-null object\n",
      "CLASS               56330 non-null object\n",
      "MKT_CLUS            56323 non-null float64\n",
      "D_CLASS             56330 non-null object\n",
      "D_CLASS_CN_x        56330 non-null object\n",
      "NBHD_1_x            56330 non-null int64\n",
      "NBHD_1_CN_x         56330 non-null object\n",
      "PIN_x               56330 non-null int64\n",
      "PIN_y               56311 non-null float64\n",
      "CD                  56311 non-null float64\n",
      "OFCARD              56311 non-null float64\n",
      "OWNER               56311 non-null object\n",
      "CO_OWNER            931 non-null object\n",
      "OWNER_NUM           56311 non-null object\n",
      "OWNER_DIR           27699 non-null object\n",
      "OWNER_ST            56311 non-null object\n",
      "OWNER_TYPE          55340 non-null object\n",
      "OWNER_APT           2337 non-null object\n",
      "OWNER_CITY          56311 non-null object\n",
      "OWNER_STATE         56310 non-null object\n",
      "OWNER_ZIP           56304 non-null object\n",
      "SITE_NBR            56311 non-null float64\n",
      "SITE_DIR            29600 non-null object\n",
      "SITE_NAME           56311 non-null object\n",
      "SITE_MODE           56303 non-null object\n",
      "SITE_MORE           647 non-null object\n",
      "TAX_DIST            56311 non-null object\n",
      "PROP_CLASS          56311 non-null float64\n",
      "PROPERTY_CLASS      56311 non-null object\n",
      "ZONE10              56311 non-null object\n",
      "D_CLASS_CN_y        56311 non-null object\n",
      "LAND_SQFT           56282 non-null float64\n",
      "AREA_ABG            56311 non-null float64\n",
      "BSMT_AREA           56311 non-null float64\n",
      "FBSMT_SQFT          56311 non-null float64\n",
      "GRD_AREA            56311 non-null float64\n",
      "STORY               56311 non-null float64\n",
      "STYLE_CN            56289 non-null object\n",
      "BED_RMS             56311 non-null float64\n",
      "FULL_B              56289 non-null float64\n",
      "HLF_B               56289 non-null float64\n",
      "CCYRBLT             56289 non-null float64\n",
      "CCAGE_RM            56289 non-null float64\n",
      "UNITS               56311 non-null float64\n",
      "ASMT_APPR_LAND      56311 non-null float64\n",
      "TOTAL_VALUE         56311 non-null float64\n",
      "ASDLAND             56311 non-null float64\n",
      "ASSESS_VALUE        56311 non-null float64\n",
      "ASMT_TAXABLE        56311 non-null float64\n",
      "ASMT_EXEMPT_AMT     56311 non-null float64\n",
      "NBHD_1_y            56311 non-null float64\n",
      "NBHD_1_CN_y         56311 non-null object\n",
      "LEGL_DESCRIPTION    56311 non-null object\n",
      "dtypes: float64(26), int64(6), object(29)\n",
      "memory usage: 26.6+ MB\n"
     ]
    }
   ],
   "source": [
    "df3.info()"
   ]
  },
  {
   "cell_type": "code",
   "execution_count": 15,
   "metadata": {
    "collapsed": false
   },
   "outputs": [],
   "source": [
    "df4 = df3[df3.INSTRUMENT != 'QC']"
   ]
  },
  {
   "cell_type": "code",
   "execution_count": 16,
   "metadata": {
    "collapsed": false
   },
   "outputs": [],
   "source": [
    "df5 = df4[df4.PROPERTY_CLASS == 'Single Family Residential']"
   ]
  },
  {
   "cell_type": "code",
   "execution_count": 17,
   "metadata": {
    "collapsed": false
   },
   "outputs": [
    {
     "data": {
      "text/plain": [
       "1           (275000, 419000]\n",
       "4           (275000, 419000]\n",
       "5           (275000, 419000]\n",
       "10          (275000, 419000]\n",
       "13          (180000, 275000]\n",
       "                 ...        \n",
       "111887    (419000, 49500000]\n",
       "111888    (419000, 49500000]\n",
       "111889    (419000, 49500000]\n",
       "111890    (419000, 49500000]\n",
       "111891    (419000, 49500000]\n",
       "Name: SALE_PRICE, dtype: category\n",
       "Categories (4, object): [[100010, 180000] < (180000, 275000] < (275000, 419000] < (419000, 49500000]]"
      ]
     },
     "execution_count": 17,
     "metadata": {},
     "output_type": "execute_result"
    }
   ],
   "source": [
    "pd.qcut(df5.SALE_PRICE,4)\n",
    "# So these pricing restrictions bring us down to 56,000 records (sale price > 100k, not a 'quit claim' deed, single fam residential)\n",
    "\n",
    "# The artificial low-end cutoff on prices will hurt our model a little, because we're keeping the whole right tail\n",
    "# but cutting the left tail short -- the difficulty is that at lower prices, we have a hard time telling the difference\n",
    "# between an inexpensive \"open market\" sale and an \"in-family\" or \"distressed\" sale, that is operating under a\n",
    "# different set of pricing dynamics.\n",
    "# When we actually deploy the various models, we can explore ways to compensate for this artificial skew"
   ]
  },
  {
   "cell_type": "code",
   "execution_count": 18,
   "metadata": {
    "collapsed": false
   },
   "outputs": [
    {
     "data": {
      "text/plain": [
       "array(['R', 'A', 'X', 'H'], dtype=object)"
      ]
     },
     "execution_count": 18,
     "metadata": {},
     "output_type": "execute_result"
    }
   ],
   "source": [
    "df5.CLASS.unique()"
   ]
  },
  {
   "cell_type": "code",
   "execution_count": 19,
   "metadata": {
    "collapsed": false
   },
   "outputs": [],
   "source": [
    "x_keep = ['SCHEDNUM', 'RECEPTION_NUM', 'INSTRUMENT', 'RECEPTION_DATE', 'CLASS', 'D_CLASS', 'NBHD_1_x', 'NBHD_1_CN_x', 'OFCARD', 'SITE_NBR', \n",
    "        'SITE_DIR', 'SITE_NAME', 'SITE_MODE', 'SITE_MORE', 'TAX_DIST',  'LAND_SQFT', 'AREA_ABG', 'BSMT_AREA', 'FBSMT_SQFT', 'GRD_AREA', \n",
    "        'STORY', 'BED_RMS', 'FULL_B', 'HLF_B', 'CCYRBLT', 'CCAGE_RM', 'SALE_PRICE']\n",
    "y_col = ['SALE_PRICE']"
   ]
  },
  {
   "cell_type": "code",
   "execution_count": 20,
   "metadata": {
    "collapsed": false
   },
   "outputs": [],
   "source": [
    "df6 = df5.ix[:,x_keep]\n",
    "\n",
    "y = df5.ix[:,y_col]"
   ]
  },
  {
   "cell_type": "code",
   "execution_count": 21,
   "metadata": {
    "collapsed": false
   },
   "outputs": [
    {
     "name": "stdout",
     "output_type": "stream",
     "text": [
      "<class 'pandas.core.frame.DataFrame'>\n",
      "Int64Index: 56105 entries, 1 to 111891\n",
      "Data columns (total 27 columns):\n",
      "SCHEDNUM          56105 non-null int64\n",
      "RECEPTION_NUM     56105 non-null object\n",
      "INSTRUMENT        56105 non-null object\n",
      "RECEPTION_DATE    56105 non-null int64\n",
      "CLASS             56105 non-null object\n",
      "D_CLASS           56105 non-null object\n",
      "NBHD_1_x          56105 non-null int64\n",
      "NBHD_1_CN_x       56105 non-null object\n",
      "OFCARD            56105 non-null float64\n",
      "SITE_NBR          56105 non-null float64\n",
      "SITE_DIR          29488 non-null object\n",
      "SITE_NAME         56105 non-null object\n",
      "SITE_MODE         56097 non-null object\n",
      "SITE_MORE         641 non-null object\n",
      "TAX_DIST          56105 non-null object\n",
      "LAND_SQFT         56076 non-null float64\n",
      "AREA_ABG          56105 non-null float64\n",
      "BSMT_AREA         56105 non-null float64\n",
      "FBSMT_SQFT        56105 non-null float64\n",
      "GRD_AREA          56105 non-null float64\n",
      "STORY             56105 non-null float64\n",
      "BED_RMS           56105 non-null float64\n",
      "FULL_B            56083 non-null float64\n",
      "HLF_B             56083 non-null float64\n",
      "CCYRBLT           56083 non-null float64\n",
      "CCAGE_RM          56083 non-null float64\n",
      "SALE_PRICE        56105 non-null float64\n",
      "dtypes: float64(14), int64(3), object(10)\n",
      "memory usage: 12.0+ MB\n"
     ]
    }
   ],
   "source": [
    "df6.info()"
   ]
  },
  {
   "cell_type": "code",
   "execution_count": null,
   "metadata": {
    "collapsed": false
   },
   "outputs": [],
   "source": [
    "# I'm still on the fence about how/whether to include some of these in the actual model -- the address, for example, would be quite\n",
    "# messy to model, and some of the sparser site characteristics (TAX_DIST, GRD_AREA) may carry too much weight when we regress, \n",
    "# so we may want to consider some kind of single measure of basement space (plus a 'finished' binary if FBSMT or GRD > 0), for example"
   ]
  },
  {
   "cell_type": "code",
   "execution_count": 22,
   "metadata": {
    "collapsed": false
   },
   "outputs": [],
   "source": [
    "df6.to_csv('saleprice_df.csv')"
   ]
  },
  {
   "cell_type": "code",
   "execution_count": null,
   "metadata": {
    "collapsed": false
   },
   "outputs": [],
   "source": [
    "# In the next notebook, we'll build on this df"
   ]
  },
  {
   "cell_type": "code",
   "execution_count": 23,
   "metadata": {
    "collapsed": false
   },
   "outputs": [],
   "source": [
    "df = pd.read_csv('saleprice_df.csv')"
   ]
  },
  {
   "cell_type": "code",
   "execution_count": 24,
   "metadata": {
    "collapsed": false
   },
   "outputs": [
    {
     "name": "stdout",
     "output_type": "stream",
     "text": [
      "<class 'pandas.core.frame.DataFrame'>\n",
      "Int64Index: 56105 entries, 0 to 56104\n",
      "Data columns (total 28 columns):\n",
      "Unnamed: 0        56105 non-null int64\n",
      "SCHEDNUM          56105 non-null int64\n",
      "RECEPTION_NUM     56105 non-null int64\n",
      "INSTRUMENT        56105 non-null object\n",
      "RECEPTION_DATE    56105 non-null int64\n",
      "CLASS             56105 non-null object\n",
      "D_CLASS           56105 non-null int64\n",
      "NBHD_1_x          56105 non-null int64\n",
      "NBHD_1_CN_x       56105 non-null object\n",
      "OFCARD            56105 non-null float64\n",
      "SITE_NBR          56105 non-null float64\n",
      "SITE_DIR          29488 non-null object\n",
      "SITE_NAME         56105 non-null object\n",
      "SITE_MODE         56097 non-null object\n",
      "SITE_MORE         641 non-null object\n",
      "TAX_DIST          56105 non-null object\n",
      "LAND_SQFT         56076 non-null float64\n",
      "AREA_ABG          56105 non-null float64\n",
      "BSMT_AREA         56105 non-null float64\n",
      "FBSMT_SQFT        56105 non-null float64\n",
      "GRD_AREA          56105 non-null float64\n",
      "STORY             56105 non-null float64\n",
      "BED_RMS           56105 non-null float64\n",
      "FULL_B            56083 non-null float64\n",
      "HLF_B             56083 non-null float64\n",
      "CCYRBLT           56083 non-null float64\n",
      "CCAGE_RM          56083 non-null float64\n",
      "SALE_PRICE        56105 non-null float64\n",
      "dtypes: float64(14), int64(6), object(8)\n",
      "memory usage: 12.4+ MB\n"
     ]
    }
   ],
   "source": [
    "df.info()"
   ]
  },
  {
   "cell_type": "code",
   "execution_count": 25,
   "metadata": {
    "collapsed": false
   },
   "outputs": [],
   "source": [
    "df['SALES_YR'] = df['RECEPTION_DATE'].map(lambda x : str(x)[:4]).astype('int')\n",
    "df['SALES_MONTH'] = df['RECEPTION_DATE'].map(lambda x : str(x)[4:6]).astype('str')"
   ]
  },
  {
   "cell_type": "code",
   "execution_count": 26,
   "metadata": {
    "collapsed": false
   },
   "outputs": [],
   "source": [
    "df['SALES_DATE'] = df['SALES_YR'].astype('str')+df['SALES_MONTH']"
   ]
  },
  {
   "cell_type": "code",
   "execution_count": 27,
   "metadata": {
    "collapsed": false
   },
   "outputs": [],
   "source": [
    "df2 = df[df.SALES_YR >= 2008]\n",
    "price = df2.groupby('SALES_DATE').SALE_PRICE.median()\n",
    "quantity = df2.groupby('SALES_DATE').SCHEDNUM.count()"
   ]
  },
  {
   "cell_type": "code",
   "execution_count": 28,
   "metadata": {
    "collapsed": false
   },
   "outputs": [
    {
     "data": {
      "text/plain": [
       "SALES_DATE\n",
       "200801    219642.5\n",
       "200802    249700.0\n",
       "200803    260100.0\n",
       "200804    265000.0\n",
       "200805    245000.0\n",
       "            ...   \n",
       "201409    318500.0\n",
       "201410    320000.0\n",
       "201411    317000.0\n",
       "201412    313500.0\n",
       "201501    300000.0\n",
       "Name: SALE_PRICE, dtype: float64"
      ]
     },
     "execution_count": 28,
     "metadata": {},
     "output_type": "execute_result"
    }
   ],
   "source": [
    "price"
   ]
  },
  {
   "cell_type": "markdown",
   "metadata": {},
   "source": [
    "### plotting price over time"
   ]
  },
  {
   "cell_type": "code",
   "execution_count": 29,
   "metadata": {
    "collapsed": false
   },
   "outputs": [],
   "source": [
    "df_b = pd.read_table('comparisons.csv', header=0, names=['date', 'Case-Shiller', 'Zillow'])"
   ]
  },
  {
   "cell_type": "code",
   "execution_count": 30,
   "metadata": {
    "collapsed": false
   },
   "outputs": [
    {
     "data": {
      "text/html": [
       "<div>\n",
       "<table border=\"1\" class=\"dataframe\">\n",
       "  <thead>\n",
       "    <tr style=\"text-align: right;\">\n",
       "      <th></th>\n",
       "      <th>date</th>\n",
       "      <th>Case-Shiller</th>\n",
       "      <th>Zillow</th>\n",
       "    </tr>\n",
       "  </thead>\n",
       "  <tbody>\n",
       "    <tr>\n",
       "      <th>0</th>\n",
       "      <td>2008-01-01</td>\n",
       "      <td>130.93</td>\n",
       "      <td>242400</td>\n",
       "    </tr>\n",
       "    <tr>\n",
       "      <th>1</th>\n",
       "      <td>2008-02-01</td>\n",
       "      <td>130.30</td>\n",
       "      <td>240500</td>\n",
       "    </tr>\n",
       "    <tr>\n",
       "      <th>2</th>\n",
       "      <td>2008-03-01</td>\n",
       "      <td>130.40</td>\n",
       "      <td>238800</td>\n",
       "    </tr>\n",
       "    <tr>\n",
       "      <th>3</th>\n",
       "      <td>2008-04-01</td>\n",
       "      <td>130.19</td>\n",
       "      <td>237500</td>\n",
       "    </tr>\n",
       "    <tr>\n",
       "      <th>4</th>\n",
       "      <td>2008-05-01</td>\n",
       "      <td>130.12</td>\n",
       "      <td>237000</td>\n",
       "    </tr>\n",
       "  </tbody>\n",
       "</table>\n",
       "</div>"
      ],
      "text/plain": [
       "         date  Case-Shiller  Zillow\n",
       "0  2008-01-01        130.93  242400\n",
       "1  2008-02-01        130.30  240500\n",
       "2  2008-03-01        130.40  238800\n",
       "3  2008-04-01        130.19  237500\n",
       "4  2008-05-01        130.12  237000"
      ]
     },
     "execution_count": 30,
     "metadata": {},
     "output_type": "execute_result"
    }
   ],
   "source": [
    "df_b.head()"
   ]
  },
  {
   "cell_type": "code",
   "execution_count": 31,
   "metadata": {
    "collapsed": false
   },
   "outputs": [],
   "source": [
    "df_b['date2'] = df_b['date'].map(lambda x : str(x)[:4]+str(x)[5:7]).astype('str')\n",
    "df_b2 = df_b.drop(['date'], axis=1)"
   ]
  },
  {
   "cell_type": "code",
   "execution_count": 32,
   "metadata": {
    "collapsed": false
   },
   "outputs": [],
   "source": [
    "w4 = pd.DataFrame({'Median_Price': df2.groupby('SALES_DATE').SALE_PRICE.median()}).reset_index()\n"
   ]
  },
  {
   "cell_type": "code",
   "execution_count": 33,
   "metadata": {
    "collapsed": false
   },
   "outputs": [
    {
     "name": "stdout",
     "output_type": "stream",
     "text": [
      "<class 'pandas.core.frame.DataFrame'>\n",
      "Int64Index: 85 entries, 0 to 84\n",
      "Data columns (total 2 columns):\n",
      "SALES_DATE      85 non-null object\n",
      "Median_Price    85 non-null float64\n",
      "dtypes: float64(1), object(1)\n",
      "memory usage: 2.0+ KB\n"
     ]
    }
   ],
   "source": [
    "w4.info()"
   ]
  },
  {
   "cell_type": "code",
   "execution_count": 34,
   "metadata": {
    "collapsed": false
   },
   "outputs": [],
   "source": [
    "df_b3 = pd.concat([df_b2, w4], axis=1)"
   ]
  },
  {
   "cell_type": "code",
   "execution_count": 35,
   "metadata": {
    "collapsed": false
   },
   "outputs": [
    {
     "name": "stdout",
     "output_type": "stream",
     "text": [
      "<class 'pandas.core.frame.DataFrame'>\n",
      "Int64Index: 85 entries, 0 to 84\n",
      "Data columns (total 5 columns):\n",
      "Case-Shiller    84 non-null float64\n",
      "Zillow          85 non-null int64\n",
      "date2           85 non-null object\n",
      "SALES_DATE      85 non-null object\n",
      "Median_Price    85 non-null float64\n",
      "dtypes: float64(2), int64(1), object(2)\n",
      "memory usage: 4.0+ KB\n"
     ]
    }
   ],
   "source": [
    "df_b3.info()"
   ]
  },
  {
   "cell_type": "code",
   "execution_count": 36,
   "metadata": {
    "collapsed": false
   },
   "outputs": [
    {
     "data": {
      "image/png": "[encoded data removed]",
      "text/plain": [
       "<matplotlib.figure.Figure at 0xed43470>"
      ]
     },
     "metadata": {},
     "output_type": "display_data"
    }
   ],
   "source": [
    "fig, ax1 = plt.subplots(figsize=(8,6))\n",
    "\n",
    "ax1.set_title('Measures of Home Value')\n",
    "\n",
    "ax1.plot(df_b3.index, df_b3.Median_Price, lw=2, color=\"blue\", label=\"median sale price\")\n",
    "ax1.set_ylabel(\"in dollars\", color=\"blue\")\n",
    "for label in ax1.get_yticklabels():\n",
    "    label.set_color(\"blue\")\n",
    "    \n",
    "ax1.set_xticks([1, 13, 25, 37, 49, 61, 73, 85])\n",
    "ax1.set_xticklabels(['1/2008', '1/2009', '1/2010', '1/2011', '1/2012', '1/2013', '1/2014', '1/2015'])\n",
    "ax1.plot(df_b3.index, df_b3.Zillow, lw=2, c='purple', label=\"Zillow Home Value Index\")\n",
    "    \n",
    "ax2 = ax1.twinx()\n",
    "ax2.plot(df_b3.index, df_b3['Case-Shiller'], lw=2, color=\"red\", label=\"Case-Shiller index\")\n",
    "ax2.set_ylim([105,180])\n",
    "ax2.set_ylabel(\"C-S index, 1/2000 = 100\", color=\"red\")\n",
    "for label in ax2.get_yticklabels():\n",
    "    label.set_color(\"red\")\n",
    "    \n",
    "ax1.legend(loc=0)\n",
    "ax2.legend(loc=4)\n",
    "\n",
    "fig.savefig(\"value_measures.png\")"
   ]
  },
  {
   "cell_type": "code",
   "execution_count": null,
   "metadata": {
    "collapsed": false
   },
   "outputs": [],
   "source": [
    "# So this is a good start -- we have the dataframes we want to work with, we've done some sanity checks, \n",
    "# and the median sale price has been validated by a couple of external indices."
   ]
  }
 ],
 "metadata": {
  "kernelspec": {
   "display_name": "Python 2",
   "language": "python",
   "name": "python2"
  },
  "language_info": {
   "codemirror_mode": {
    "name": "ipython",
    "version": 2
   },
   "file_extension": ".py",
   "mimetype": "text/x-python",
   "name": "python",
   "nbconvert_exporter": "python",
   "pygments_lexer": "ipython2",
   "version": "2.7.11"
  }
 },
 "nbformat": 4,
 "nbformat_minor": 0
}
